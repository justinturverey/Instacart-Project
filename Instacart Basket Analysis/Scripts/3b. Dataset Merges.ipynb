{
 "cells": [
  {
   "cell_type": "markdown",
   "id": "451ab7d7",
   "metadata": {},
   "source": [
    "### Table of Contents:\n",
    "Imports: Imported libraries  \n",
    "1: Dataframe to be used  \n",
    "2: Number of rows and columns for orders_products_combined dataframe   \n",
    "3: Merge orders_products_combined dataframe with products dataframe  \n",
    "4: Check results of merge  \n",
    "5: Export merged dataframe"
   ]
  },
  {
   "cell_type": "markdown",
   "id": "c26093bc",
   "metadata": {},
   "source": [
    "# Imports"
   ]
  },
  {
   "cell_type": "code",
   "execution_count": 1,
   "id": "e042577a",
   "metadata": {},
   "outputs": [],
   "source": [
    "import pandas\n",
    "import numpy\n",
    "import os"
   ]
  },
  {
   "cell_type": "markdown",
   "id": "b8451175",
   "metadata": {},
   "source": [
    "# 1"
   ]
  },
  {
   "cell_type": "code",
   "execution_count": 2,
   "id": "bcf0442e",
   "metadata": {},
   "outputs": [],
   "source": [
    "# Import previously combined dataframe as df_orders\n",
    "df_orders = pandas.read_pickle(r\"C:\\Users\\justi\\Downloads\\Instacart Basket Analysis\\2. Data\\Prepared\\orders_products_combined.pkl\")"
   ]
  },
  {
   "cell_type": "markdown",
   "id": "0dd80a81",
   "metadata": {},
   "source": [
    "# 2"
   ]
  },
  {
   "cell_type": "code",
   "execution_count": 6,
   "id": "e806ecb2",
   "metadata": {},
   "outputs": [
    {
     "data": {
      "text/plain": [
       "(32434489, 10)"
      ]
     },
     "execution_count": 6,
     "metadata": {},
     "output_type": "execute_result"
    }
   ],
   "source": [
    "df_orders.shape"
   ]
  },
  {
   "cell_type": "markdown",
   "id": "ab7b441e",
   "metadata": {},
   "source": [
    "# 3"
   ]
  },
  {
   "cell_type": "code",
   "execution_count": 4,
   "id": "981b0d73",
   "metadata": {},
   "outputs": [],
   "source": [
    "# Import products dataframe\n",
    "df_products = pandas.read_csv(r\"C:\\Users\\justi\\Downloads\\Instacart Basket Analysis\\2. Data\\Prepared\\products_prepared.csv\")"
   ]
  },
  {
   "cell_type": "code",
   "execution_count": 14,
   "id": "16633a7d",
   "metadata": {},
   "outputs": [],
   "source": [
    "# Merge dataframes\n",
    "df_merged = df_orders.merge(df_products, indicator = True)"
   ]
  },
  {
   "cell_type": "markdown",
   "id": "e87dca12",
   "metadata": {},
   "source": [
    "# 4"
   ]
  },
  {
   "cell_type": "code",
   "execution_count": 19,
   "id": "404e7056",
   "metadata": {},
   "outputs": [
    {
     "data": {
      "text/plain": [
       "both          32404859\n",
       "left_only            0\n",
       "right_only           0\n",
       "Name: _merge, dtype: int64"
      ]
     },
     "execution_count": 19,
     "metadata": {},
     "output_type": "execute_result"
    }
   ],
   "source": [
    "# Confirm results of merge\n",
    "df_merged['_merge'].value_counts()"
   ]
  },
  {
   "cell_type": "markdown",
   "id": "ba8064b0",
   "metadata": {},
   "source": [
    "# 5"
   ]
  },
  {
   "cell_type": "code",
   "execution_count": 20,
   "id": "d52a67ae",
   "metadata": {},
   "outputs": [],
   "source": [
    "# Export merged dataframe\n",
    "df_merged.to_pickle(r\"C:\\Users\\justi\\Downloads\\Instacart Basket Analysis\\2. Data\\Prepared\\orders_products_merged.pkl\")"
   ]
  }
 ],
 "metadata": {
  "kernelspec": {
   "display_name": "Python 3 (ipykernel)",
   "language": "python",
   "name": "python3"
  },
  "language_info": {
   "codemirror_mode": {
    "name": "ipython",
    "version": 3
   },
   "file_extension": ".py",
   "mimetype": "text/x-python",
   "name": "python",
   "nbconvert_exporter": "python",
   "pygments_lexer": "ipython3",
   "version": "3.9.7"
  }
 },
 "nbformat": 4,
 "nbformat_minor": 5
}
