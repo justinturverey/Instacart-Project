{
 "cells": [
  {
   "cell_type": "markdown",
   "id": "42d6d8db",
   "metadata": {},
   "source": [
    "### Table of Contents:\n",
    "Imports: Imported libraries  \n",
    "Dataframes: Dataframes to be used  \n",
    "1: Merge orders dataframe  with orders_prior dataframe   \n",
    "2: Export merged dataframe"
   ]
  },
  {
   "cell_type": "markdown",
   "id": "8b9fc0b8",
   "metadata": {},
   "source": [
    "# Imports"
   ]
  },
  {
   "cell_type": "code",
   "execution_count": 1,
   "id": "06d433f1",
   "metadata": {},
   "outputs": [],
   "source": [
    "import pandas\n",
    "import numpy\n",
    "import os"
   ]
  },
  {
   "cell_type": "markdown",
   "id": "6810d745",
   "metadata": {},
   "source": [
    "# Dataframes"
   ]
  },
  {
   "cell_type": "code",
   "execution_count": 2,
   "id": "647495e6",
   "metadata": {},
   "outputs": [],
   "source": [
    "df_orders_prior = pandas.read_csv(r\"C:\\Users\\justi\\Downloads\\Instacart Basket Analysis\\2. Data\\Original\\order_products_prior.csv\")\n",
    "df_orders = pandas.read_csv(r\"C:\\Users\\justi\\Downloads\\Instacart Basket Analysis\\2. Data\\Prepared\\orders_prepared.csv\")"
   ]
  },
  {
   "cell_type": "markdown",
   "id": "9c0f0d75",
   "metadata": {},
   "source": [
    "# 1"
   ]
  },
  {
   "cell_type": "code",
   "execution_count": 3,
   "id": "53242732",
   "metadata": {},
   "outputs": [],
   "source": [
    "# Merge dataframes\n",
    "df_merged_large = df_orders.merge(df_orders_prior, indicator = True)"
   ]
  },
  {
   "cell_type": "code",
   "execution_count": 4,
   "id": "85acc321",
   "metadata": {},
   "outputs": [
    {
     "data": {
      "text/plain": [
       "both          32434489\n",
       "left_only            0\n",
       "right_only           0\n",
       "Name: _merge, dtype: int64"
      ]
     },
     "execution_count": 4,
     "metadata": {},
     "output_type": "execute_result"
    }
   ],
   "source": [
    "df_merged_large['_merge'].value_counts()"
   ]
  },
  {
   "cell_type": "markdown",
   "id": "a7248b7c",
   "metadata": {},
   "source": [
    "# 2"
   ]
  },
  {
   "cell_type": "code",
   "execution_count": 5,
   "id": "f72f5cd1",
   "metadata": {},
   "outputs": [],
   "source": [
    "# Export merged dataframe as pkl\n",
    "df_merged_large.to_pickle(r\"C:\\Users\\justi\\Downloads\\Instacart Basket Analysis\\2. Data\\Prepared\\orders_products_combined.pkl\")"
   ]
  }
 ],
 "metadata": {
  "kernelspec": {
   "display_name": "Python 3 (ipykernel)",
   "language": "python",
   "name": "python3"
  },
  "language_info": {
   "codemirror_mode": {
    "name": "ipython",
    "version": 3
   },
   "file_extension": ".py",
   "mimetype": "text/x-python",
   "name": "python",
   "nbconvert_exporter": "python",
   "pygments_lexer": "ipython3",
   "version": "3.9.7"
  }
 },
 "nbformat": 4,
 "nbformat_minor": 5
}
