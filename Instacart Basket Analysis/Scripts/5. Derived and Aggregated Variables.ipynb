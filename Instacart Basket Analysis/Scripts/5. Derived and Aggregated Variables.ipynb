{
 "cells": [
  {
   "cell_type": "markdown",
   "id": "a0b24694",
   "metadata": {},
   "source": [
    "### Table of Contents:\n",
    "Imports: Imported libraries  \n",
    "Dataframes: Dataframe to be used  \n",
    "1: Group order_number by department  \n",
    "2: Comparison of two different groupings  \n",
    "3: Derive two columns for orders_products_merged dataframe   \n",
    "4: Statistics for prices of products based on loyalty_status  \n",
    "5: Derive two columns for orders_products_merged dataframe   \n",
    "6: Derive two columns for orders_products_merged dataframe   \n",
    "7: Export dataframe"
   ]
  },
  {
   "cell_type": "markdown",
   "id": "784040c7",
   "metadata": {},
   "source": [
    "# Imports"
   ]
  },
  {
   "cell_type": "code",
   "execution_count": 1,
   "id": "70dba64f",
   "metadata": {},
   "outputs": [],
   "source": [
    "import pandas\n",
    "import numpy"
   ]
  },
  {
   "cell_type": "markdown",
   "id": "ea76de83",
   "metadata": {},
   "source": [
    "# Dataframes"
   ]
  },
  {
   "cell_type": "code",
   "execution_count": 2,
   "id": "a945f2d9",
   "metadata": {},
   "outputs": [],
   "source": [
    "orders_products = pandas.read_pickle(r\"C:\\Users\\justi\\Downloads\\Instacart Basket Analysis\\2. Data\\Prepared\\orders_products_merged.pkl\")"
   ]
  },
  {
   "cell_type": "markdown",
   "id": "35e2234a",
   "metadata": {},
   "source": [
    "# 1"
   ]
  },
  {
   "cell_type": "code",
   "execution_count": 4,
   "id": "f546d2e4",
   "metadata": {},
   "outputs": [
    {
     "data": {
      "text/plain": [
       "department_id\n",
       "1     15.457838\n",
       "2     17.277920\n",
       "3     17.170395\n",
       "4     17.811403\n",
       "5     15.215751\n",
       "6     16.439806\n",
       "7     17.225802\n",
       "8     15.340650\n",
       "9     15.895474\n",
       "10    20.197148\n",
       "11    16.170638\n",
       "12    15.887671\n",
       "13    16.583536\n",
       "14    16.773669\n",
       "15    16.165037\n",
       "16    17.665606\n",
       "17    15.694469\n",
       "18    19.310397\n",
       "19    17.177343\n",
       "20    16.473447\n",
       "21    22.902379\n",
       "Name: order_number, dtype: float64"
      ]
     },
     "execution_count": 4,
     "metadata": {},
     "output_type": "execute_result"
    }
   ],
   "source": [
    "# Group average order number by department\n",
    "orders_products.groupby('department_id')['order_number'].mean()"
   ]
  },
  {
   "cell_type": "markdown",
   "id": "f687bd48",
   "metadata": {},
   "source": [
    "# 2"
   ]
  },
  {
   "cell_type": "markdown",
   "id": "8509097d",
   "metadata": {},
   "source": [
    "Grouping the entire dataframe differs from grouping the subset in that all departments are now included in the output."
   ]
  },
  {
   "cell_type": "markdown",
   "id": "2e8caec3",
   "metadata": {},
   "source": [
    "# 3"
   ]
  },
  {
   "cell_type": "code",
   "execution_count": 6,
   "id": "abc4461e",
   "metadata": {},
   "outputs": [],
   "source": [
    "# Make new column total_user_orders\n",
    "orders_products['total_user_orders'] = orders_products.groupby('user_id')['order_number'].transform(numpy.max)"
   ]
  },
  {
   "cell_type": "code",
   "execution_count": 7,
   "id": "2bcf24a8",
   "metadata": {},
   "outputs": [],
   "source": [
    "# Make new column loyalty_status\n",
    "orders_products.loc[orders_products['total_user_orders'] > 40, 'loyalty_status'] = 'Loyal customer'\n",
    "orders_products.loc[(orders_products['total_user_orders'] > 10) & (orders_products['total_user_orders'] <= 40), 'loyalty_status'] = 'Regular customer'\n",
    "orders_products.loc[orders_products['total_user_orders'] <= 10, 'loyalty_status'] = 'New customer'"
   ]
  },
  {
   "cell_type": "code",
   "execution_count": 8,
   "id": "f254480e",
   "metadata": {},
   "outputs": [
    {
     "data": {
      "text/plain": [
       "Regular customer    15876776\n",
       "Loyal customer      10284093\n",
       "New customer         6243990\n",
       "Name: loyalty_status, dtype: int64"
      ]
     },
     "execution_count": 8,
     "metadata": {},
     "output_type": "execute_result"
    }
   ],
   "source": [
    "# Check counts for derived column\n",
    "orders_products['loyalty_status'].value_counts()"
   ]
  },
  {
   "cell_type": "markdown",
   "id": "b9714c1b",
   "metadata": {},
   "source": [
    "# 4"
   ]
  },
  {
   "cell_type": "code",
   "execution_count": 12,
   "id": "63681725",
   "metadata": {},
   "outputs": [
    {
     "data": {
      "text/html": [
       "<div>\n",
       "<style scoped>\n",
       "    .dataframe tbody tr th:only-of-type {\n",
       "        vertical-align: middle;\n",
       "    }\n",
       "\n",
       "    .dataframe tbody tr th {\n",
       "        vertical-align: top;\n",
       "    }\n",
       "\n",
       "    .dataframe thead tr th {\n",
       "        text-align: left;\n",
       "    }\n",
       "\n",
       "    .dataframe thead tr:last-of-type th {\n",
       "        text-align: right;\n",
       "    }\n",
       "</style>\n",
       "<table border=\"1\" class=\"dataframe\">\n",
       "  <thead>\n",
       "    <tr>\n",
       "      <th></th>\n",
       "      <th colspan=\"3\" halign=\"left\">prices</th>\n",
       "    </tr>\n",
       "    <tr>\n",
       "      <th></th>\n",
       "      <th>mean</th>\n",
       "      <th>min</th>\n",
       "      <th>max</th>\n",
       "    </tr>\n",
       "    <tr>\n",
       "      <th>loyalty_status</th>\n",
       "      <th></th>\n",
       "      <th></th>\n",
       "      <th></th>\n",
       "    </tr>\n",
       "  </thead>\n",
       "  <tbody>\n",
       "    <tr>\n",
       "      <th>Loyal customer</th>\n",
       "      <td>10.386336</td>\n",
       "      <td>1.0</td>\n",
       "      <td>99999.0</td>\n",
       "    </tr>\n",
       "    <tr>\n",
       "      <th>New customer</th>\n",
       "      <td>13.294670</td>\n",
       "      <td>1.0</td>\n",
       "      <td>99999.0</td>\n",
       "    </tr>\n",
       "    <tr>\n",
       "      <th>Regular customer</th>\n",
       "      <td>12.495717</td>\n",
       "      <td>1.0</td>\n",
       "      <td>99999.0</td>\n",
       "    </tr>\n",
       "  </tbody>\n",
       "</table>\n",
       "</div>"
      ],
      "text/plain": [
       "                     prices              \n",
       "                       mean  min      max\n",
       "loyalty_status                           \n",
       "Loyal customer    10.386336  1.0  99999.0\n",
       "New customer      13.294670  1.0  99999.0\n",
       "Regular customer  12.495717  1.0  99999.0"
      ]
     },
     "execution_count": 12,
     "metadata": {},
     "output_type": "execute_result"
    }
   ],
   "source": [
    "# Check statistics for price of purchased products\n",
    "orders_products.groupby('loyalty_status').agg({'prices':['mean', 'min', 'max']})"
   ]
  },
  {
   "cell_type": "markdown",
   "id": "373e5eb5",
   "metadata": {},
   "source": [
    "# 5"
   ]
  },
  {
   "cell_type": "code",
   "execution_count": 13,
   "id": "ac4daa34",
   "metadata": {},
   "outputs": [],
   "source": [
    "# Make new column average_product_price\n",
    "orders_products['average_product_price'] = orders_products.groupby('user_id')['prices'].transform(numpy.mean)"
   ]
  },
  {
   "cell_type": "code",
   "execution_count": 17,
   "id": "6754217e",
   "metadata": {},
   "outputs": [],
   "source": [
    "# Make new column spending_status\n",
    "orders_products.loc[orders_products['average_product_price'] < 10, 'spending_status'] = 'Low spender'\n",
    "orders_products.loc[orders_products['average_product_price'] >= 10, 'spending_status'] = 'High spender'"
   ]
  },
  {
   "cell_type": "markdown",
   "id": "96cd7ff6",
   "metadata": {},
   "source": [
    "# 6"
   ]
  },
  {
   "cell_type": "code",
   "execution_count": 18,
   "id": "7465d66a",
   "metadata": {},
   "outputs": [],
   "source": [
    "# Make new column median_days_since_prior_order\n",
    "orders_products['median_days_since_prior_order'] = orders_products.groupby('user_id')['days_since_prior_order'].transform(numpy.median)"
   ]
  },
  {
   "cell_type": "code",
   "execution_count": 20,
   "id": "221e151d",
   "metadata": {},
   "outputs": [],
   "source": [
    "# Make new column order_frequency_status\n",
    "orders_products.loc[orders_products['median_days_since_prior_order'] > 20, 'order_frequency_status'] = 'Non-frequent customer'\n",
    "orders_products.loc[(orders_products['median_days_since_prior_order'] > 10) & (orders_products['median_days_since_prior_order'] <= 20), 'order_frequency_status'] = 'Regular customer'\n",
    "orders_products.loc[orders_products['median_days_since_prior_order'] <= 10, 'order_frequency_status'] = 'Frequent customer'"
   ]
  },
  {
   "cell_type": "markdown",
   "id": "82e2f2c9",
   "metadata": {},
   "source": [
    "# 7"
   ]
  },
  {
   "cell_type": "code",
   "execution_count": 26,
   "id": "2d6c69fc",
   "metadata": {},
   "outputs": [],
   "source": [
    "# Overwrite dataframe\n",
    "orders_products.to_pickle(r\"C:\\Users\\justi\\Downloads\\Instacart Basket Analysis\\2. Data\\Prepared\\orders_products_merged.pkl\")"
   ]
  }
 ],
 "metadata": {
  "kernelspec": {
   "display_name": "Python 3 (ipykernel)",
   "language": "python",
   "name": "python3"
  },
  "language_info": {
   "codemirror_mode": {
    "name": "ipython",
    "version": 3
   },
   "file_extension": ".py",
   "mimetype": "text/x-python",
   "name": "python",
   "nbconvert_exporter": "python",
   "pygments_lexer": "ipython3",
   "version": "3.9.7"
  }
 },
 "nbformat": 4,
 "nbformat_minor": 5
}
