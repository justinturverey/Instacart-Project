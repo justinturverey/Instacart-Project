{
 "cells": [
  {
   "cell_type": "markdown",
   "id": "3eeb25f1",
   "metadata": {},
   "source": [
    "### Table of Contents:\n",
    "Imports: Imported libraries  \n",
    "Dataframes: Dataframe to be used  \n",
    "1: Derive 2 new columns for orders_products_merged dataframe   \n",
    "2: New column  \n",
    "3: Compare derived columns  \n",
    "4: Derive new column for orders_products_merged dataframe   \n",
    "5: Value counts for busiest_period_of_day column   \n",
    "6: Export orders_products_merged dataframe"
   ]
  },
  {
   "cell_type": "markdown",
   "id": "7a89baff",
   "metadata": {},
   "source": [
    "# Imports"
   ]
  },
  {
   "cell_type": "code",
   "execution_count": 1,
   "id": "386cc118",
   "metadata": {},
   "outputs": [],
   "source": [
    "import pandas\n",
    "import numpy\n",
    "import os"
   ]
  },
  {
   "cell_type": "markdown",
   "id": "183a95d8",
   "metadata": {},
   "source": [
    "# Dataframes"
   ]
  },
  {
   "cell_type": "code",
   "execution_count": 2,
   "id": "5d872dfa",
   "metadata": {},
   "outputs": [],
   "source": [
    "orders_products = pandas.read_pickle(r\"C:\\Users\\justi\\Downloads\\Instacart Basket Analysis\\2. Data\\Prepared\\orders_products_merged.pkl\")"
   ]
  },
  {
   "cell_type": "markdown",
   "id": "01af4414",
   "metadata": {},
   "source": [
    "# 1"
   ]
  },
  {
   "cell_type": "code",
   "execution_count": 3,
   "id": "2e0917db",
   "metadata": {},
   "outputs": [],
   "source": [
    "# Derive new column price_range\n",
    "orders_products.loc[orders_products['prices'] <= 5, 'price_range'] = 'Low-range product'"
   ]
  },
  {
   "cell_type": "code",
   "execution_count": 4,
   "id": "50f4a0ad",
   "metadata": {},
   "outputs": [],
   "source": [
    "orders_products.loc[(orders_products['prices'] > 5) & (orders_products['prices'] <= 15), 'price_range'] = 'Mid-range product'"
   ]
  },
  {
   "cell_type": "code",
   "execution_count": 5,
   "id": "04461ad0",
   "metadata": {},
   "outputs": [],
   "source": [
    "orders_products.loc[orders_products['prices'] > 15, 'price_range'] = 'High-range product'"
   ]
  },
  {
   "cell_type": "code",
   "execution_count": 6,
   "id": "0fd1ef8a",
   "metadata": {},
   "outputs": [
    {
     "data": {
      "text/plain": [
       "Mid-range product     21860860\n",
       "Low-range product     10126321\n",
       "High-range product      417678\n",
       "Name: price_range, dtype: int64"
      ]
     },
     "execution_count": 6,
     "metadata": {},
     "output_type": "execute_result"
    }
   ],
   "source": [
    "orders_products['price_range'].value_counts()"
   ]
  },
  {
   "cell_type": "code",
   "execution_count": 7,
   "id": "e203cc8d",
   "metadata": {},
   "outputs": [],
   "source": [
    "# Make list to fill new column busiest_day\n",
    "lst = []\n",
    "for cell in orders_products['order_day_of_week']:\n",
    "    if cell == 0:\n",
    "        lst.append('Busiest day')\n",
    "    elif cell == 4:\n",
    "        lst.append('Least busy')\n",
    "    else:\n",
    "        lst.append('Regularly busy')"
   ]
  },
  {
   "cell_type": "code",
   "execution_count": 8,
   "id": "f1d5e256",
   "metadata": {},
   "outputs": [],
   "source": [
    "orders_products['busiest_day'] = lst"
   ]
  },
  {
   "cell_type": "code",
   "execution_count": 9,
   "id": "a3e9ced9",
   "metadata": {},
   "outputs": [
    {
     "data": {
      "text/plain": [
       "Regularly busy    22416875\n",
       "Busiest day        6204182\n",
       "Least busy         3783802\n",
       "Name: busiest_day, dtype: int64"
      ]
     },
     "execution_count": 9,
     "metadata": {},
     "output_type": "execute_result"
    }
   ],
   "source": [
    "orders_products['busiest_day'].value_counts()"
   ]
  },
  {
   "cell_type": "markdown",
   "id": "8ab0c3c0",
   "metadata": {},
   "source": [
    "# 2"
   ]
  },
  {
   "cell_type": "code",
   "execution_count": 10,
   "id": "0d26ec35",
   "metadata": {},
   "outputs": [],
   "source": [
    "# Make list to fill new column busiest_days\n",
    "lst = []\n",
    "for cell in orders_products['order_day_of_week']:\n",
    "    if cell == 0 or cell == 1:\n",
    "        lst.append('Busiest day')\n",
    "    elif cell == 4 or cell == 3:\n",
    "        lst.append('Least busy')\n",
    "    else:\n",
    "        lst.append('Regularly busy')"
   ]
  },
  {
   "cell_type": "code",
   "execution_count": 11,
   "id": "410bf531",
   "metadata": {},
   "outputs": [],
   "source": [
    "orders_products['busiest_days'] = lst"
   ]
  },
  {
   "cell_type": "code",
   "execution_count": 12,
   "id": "8aa53770",
   "metadata": {},
   "outputs": [
    {
     "data": {
      "text/plain": [
       "Regularly busy    12916111\n",
       "Busiest day       11864412\n",
       "Least busy         7624336\n",
       "Name: busiest_days, dtype: int64"
      ]
     },
     "execution_count": 12,
     "metadata": {},
     "output_type": "execute_result"
    }
   ],
   "source": [
    "orders_products['busiest_days'].value_counts()"
   ]
  },
  {
   "cell_type": "markdown",
   "id": "26f73791",
   "metadata": {},
   "source": [
    "# 3"
   ]
  },
  {
   "cell_type": "markdown",
   "id": "d0f1fc1d",
   "metadata": {},
   "source": [
    "The new column busiest_days differs from the column busiest_day in that the value of \"Regularly busy\" has decreased in occurence and the other two values have increased in occurence. "
   ]
  },
  {
   "cell_type": "markdown",
   "id": "86510aa0",
   "metadata": {},
   "source": [
    "# 4"
   ]
  },
  {
   "cell_type": "code",
   "execution_count": 18,
   "id": "6d4aaddf",
   "metadata": {},
   "outputs": [],
   "source": [
    "# Make list to fill new column busiest_period_of_day\n",
    "lst = []\n",
    "for cell in orders_products['order_hour_of_day']:\n",
    "    if cell in(10, 11, 14, 15, 13, 12, 16, 9):\n",
    "        lst.append('Most orders')\n",
    "    elif cell in(17, 8, 18, 19, 20, 7, 21, 22):\n",
    "        lst.append('Average Orders')\n",
    "    else:\n",
    "        lst.append('Fewest Orders')"
   ]
  },
  {
   "cell_type": "code",
   "execution_count": 19,
   "id": "6c0c031a",
   "metadata": {},
   "outputs": [],
   "source": [
    "orders_products['busiest_period_of_day'] = lst"
   ]
  },
  {
   "cell_type": "markdown",
   "id": "d194df21",
   "metadata": {},
   "source": [
    "# 5"
   ]
  },
  {
   "cell_type": "code",
   "execution_count": 20,
   "id": "e52aa428",
   "metadata": {},
   "outputs": [
    {
     "data": {
      "text/plain": [
       "Most orders       21118071\n",
       "Average Orders     9997651\n",
       "Fewest Orders      1289137\n",
       "Name: busiest_period_of_day, dtype: int64"
      ]
     },
     "execution_count": 20,
     "metadata": {},
     "output_type": "execute_result"
    }
   ],
   "source": [
    "# Occurence of values in column busiest_period_of_day\n",
    "orders_products['busiest_period_of_day'].value_counts()"
   ]
  },
  {
   "cell_type": "markdown",
   "id": "e117312e",
   "metadata": {},
   "source": [
    "# 6"
   ]
  },
  {
   "cell_type": "code",
   "execution_count": 27,
   "id": "b000b993",
   "metadata": {},
   "outputs": [],
   "source": [
    "# Overwrite dataframe\n",
    "orders_products.to_pickle(r\"C:\\Users\\justi\\Downloads\\Instacart Basket Analysis\\2. Data\\Prepared\\orders_products_merged.pkl\")"
   ]
  }
 ],
 "metadata": {
  "kernelspec": {
   "display_name": "Python 3 (ipykernel)",
   "language": "python",
   "name": "python3"
  },
  "language_info": {
   "codemirror_mode": {
    "name": "ipython",
    "version": 3
   },
   "file_extension": ".py",
   "mimetype": "text/x-python",
   "name": "python",
   "nbconvert_exporter": "python",
   "pygments_lexer": "ipython3",
   "version": "3.9.7"
  }
 },
 "nbformat": 4,
 "nbformat_minor": 5
}
