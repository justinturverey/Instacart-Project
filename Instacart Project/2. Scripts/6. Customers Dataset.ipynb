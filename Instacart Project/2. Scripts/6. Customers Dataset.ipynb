{
 "cells": [
  {
   "cell_type": "markdown",
   "id": "8b7b7cd0",
   "metadata": {},
   "source": [
    "### Table of Contents:\n",
    "Imports: Imported libraries  \n",
    "Dataframes: Dataframes to be used  \n",
    "1: Wrangled data for customers dataframe   \n",
    "2: Check customers dataframe for missing values and duplicates  \n",
    "3: Merge customers dataframe with orders_products_merged dataframe   \n",
    "4: Export merged dataframe"
   ]
  },
  {
   "cell_type": "markdown",
   "id": "915faaea",
   "metadata": {},
   "source": [
    "# Imports"
   ]
  },
  {
   "cell_type": "code",
   "execution_count": 1,
   "id": "2d02eb2e",
   "metadata": {},
   "outputs": [],
   "source": [
    "import pandas\n",
    "import numpy"
   ]
  },
  {
   "cell_type": "markdown",
   "id": "2f2250b8",
   "metadata": {},
   "source": [
    "# Dataframes"
   ]
  },
  {
   "cell_type": "code",
   "execution_count": 2,
   "id": "7d4a6258",
   "metadata": {},
   "outputs": [],
   "source": [
    "customers = pandas.read_csv(r\"C:\\Users\\justi\\Downloads\\Instacart Basket Analysis\\2. Data\\Original\\customers.csv\")\n",
    "orders_products = pandas.read_pickle(r\"C:\\Users\\justi\\Downloads\\Instacart Basket Analysis\\2. Data\\Prepared\\orders_products_merged.pkl\")"
   ]
  },
  {
   "cell_type": "markdown",
   "id": "dc7dace5",
   "metadata": {},
   "source": [
    "# 1"
   ]
  },
  {
   "cell_type": "code",
   "execution_count": 3,
   "id": "193ac800",
   "metadata": {},
   "outputs": [],
   "source": [
    "# Drop unneeded columns\n",
    "customers.drop(columns = ['First Name', 'Surnam', 'date_joined'], inplace = True)"
   ]
  },
  {
   "cell_type": "code",
   "execution_count": 4,
   "id": "220b099f",
   "metadata": {},
   "outputs": [],
   "source": [
    "# Rename columns\n",
    "customers.rename(columns = {'Gender':'gender', 'STATE':'state', 'Age':'age', 'n_dependants':'number_of_dependants',\n",
    "                            'fam_status':'marital_status', 'income':'annual_income'}, inplace = True)"
   ]
  },
  {
   "cell_type": "markdown",
   "id": "4e301c33",
   "metadata": {},
   "source": [
    "# 2"
   ]
  },
  {
   "cell_type": "code",
   "execution_count": 5,
   "id": "c8460c6f",
   "metadata": {},
   "outputs": [
    {
     "data": {
      "text/plain": [
       "user_id                 0\n",
       "gender                  0\n",
       "state                   0\n",
       "age                     0\n",
       "number_of_dependants    0\n",
       "marital_status          0\n",
       "annual_income           0\n",
       "dtype: int64"
      ]
     },
     "execution_count": 5,
     "metadata": {},
     "output_type": "execute_result"
    }
   ],
   "source": [
    "# Check for missing values\n",
    "customers.isnull().sum()"
   ]
  },
  {
   "cell_type": "code",
   "execution_count": 6,
   "id": "30916e98",
   "metadata": {},
   "outputs": [],
   "source": [
    "# Check for mixed data-types\n",
    "for col in customers.columns.tolist():\n",
    "  mixtype = (customers[[col]].applymap(type) != customers[[col]].iloc[0].apply(type)).any(axis = 1)\n",
    "  if len (customers[mixtype]) > 0:\n",
    "    print (col)"
   ]
  },
  {
   "cell_type": "code",
   "execution_count": 7,
   "id": "13711a29",
   "metadata": {},
   "outputs": [
    {
     "data": {
      "text/html": [
       "<div>\n",
       "<style scoped>\n",
       "    .dataframe tbody tr th:only-of-type {\n",
       "        vertical-align: middle;\n",
       "    }\n",
       "\n",
       "    .dataframe tbody tr th {\n",
       "        vertical-align: top;\n",
       "    }\n",
       "\n",
       "    .dataframe thead th {\n",
       "        text-align: right;\n",
       "    }\n",
       "</style>\n",
       "<table border=\"1\" class=\"dataframe\">\n",
       "  <thead>\n",
       "    <tr style=\"text-align: right;\">\n",
       "      <th></th>\n",
       "      <th>user_id</th>\n",
       "      <th>gender</th>\n",
       "      <th>state</th>\n",
       "      <th>age</th>\n",
       "      <th>number_of_dependants</th>\n",
       "      <th>marital_status</th>\n",
       "      <th>annual_income</th>\n",
       "    </tr>\n",
       "  </thead>\n",
       "  <tbody>\n",
       "  </tbody>\n",
       "</table>\n",
       "</div>"
      ],
      "text/plain": [
       "Empty DataFrame\n",
       "Columns: [user_id, gender, state, age, number_of_dependants, marital_status, annual_income]\n",
       "Index: []"
      ]
     },
     "execution_count": 7,
     "metadata": {},
     "output_type": "execute_result"
    }
   ],
   "source": [
    "# Check for duplicates\n",
    "customers[customers.duplicated()]"
   ]
  },
  {
   "cell_type": "markdown",
   "id": "521d2696",
   "metadata": {},
   "source": [
    "# 3"
   ]
  },
  {
   "cell_type": "code",
   "execution_count": 8,
   "id": "d71600d8",
   "metadata": {},
   "outputs": [],
   "source": [
    "# Merge customers dataframe\n",
    "merged = orders_products.merge(customers, on = 'user_id')"
   ]
  },
  {
   "cell_type": "markdown",
   "id": "b604e8dd",
   "metadata": {},
   "source": [
    "# 4"
   ]
  },
  {
   "cell_type": "code",
   "execution_count": 12,
   "id": "9173c075",
   "metadata": {},
   "outputs": [],
   "source": [
    "# Export dataframe\n",
    "merged.to_pickle(r\"C:\\Users\\justi\\Downloads\\Instacart Basket Analysis\\2. Data\\Prepared\\orders_products_customers.pkl\")"
   ]
  }
 ],
 "metadata": {
  "kernelspec": {
   "display_name": "Python 3 (ipykernel)",
   "language": "python",
   "name": "python3"
  },
  "language_info": {
   "codemirror_mode": {
    "name": "ipython",
    "version": 3
   },
   "file_extension": ".py",
   "mimetype": "text/x-python",
   "name": "python",
   "nbconvert_exporter": "python",
   "pygments_lexer": "ipython3",
   "version": "3.9.7"
  }
 },
 "nbformat": 4,
 "nbformat_minor": 5
}
