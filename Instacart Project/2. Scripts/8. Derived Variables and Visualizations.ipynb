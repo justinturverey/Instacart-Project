{
 "cells": [
  {
   "cell_type": "markdown",
   "id": "2917f222",
   "metadata": {},
   "source": [
    "### Table of Contents:\n",
    "Imports: Imported libraries  \n",
    "Dataframes: Dataframe to be used  \n",
    "1: PII Report  \n",
    "2: Derived region column and crosstab of region and spending_status  \n",
    "3: Derived low_activity column and subset  \n",
    "4: Derived type column  \n",
    "5: Barchart of type column  \n",
    "6: Statistics for total_user_orders and prices columns  \n",
    "7: Crosstabs and aggregation groupings  \n",
    "8: Scatterplots of frequently shopped departments by user type  \n",
    "9: Export dataframe"
   ]
  },
  {
   "cell_type": "markdown",
   "id": "d7d234d6",
   "metadata": {},
   "source": [
    "# Imports"
   ]
  },
  {
   "cell_type": "code",
   "execution_count": 1,
   "id": "4b79474d",
   "metadata": {},
   "outputs": [],
   "source": [
    "import pandas\n",
    "import numpy\n",
    "import seaborn"
   ]
  },
  {
   "cell_type": "markdown",
   "id": "8241b664",
   "metadata": {},
   "source": [
    "# Dataframes"
   ]
  },
  {
   "cell_type": "code",
   "execution_count": 2,
   "id": "e492ade9",
   "metadata": {},
   "outputs": [],
   "source": [
    "dataframe = pandas.read_pickle(r\"C:\\Users\\justi\\Downloads\\Instacart Basket Analysis\\2. Data\\Prepared\\orders_products_customers.pkl\")"
   ]
  },
  {
   "cell_type": "markdown",
   "id": "940e22ae",
   "metadata": {},
   "source": [
    "# 1"
   ]
  },
  {
   "cell_type": "markdown",
   "id": "4d0e254c",
   "metadata": {},
   "source": [
    "No PII present"
   ]
  },
  {
   "cell_type": "markdown",
   "id": "60566c1c",
   "metadata": {},
   "source": [
    "# 2"
   ]
  },
  {
   "cell_type": "code",
   "execution_count": null,
   "id": "d9987c7e",
   "metadata": {},
   "outputs": [],
   "source": [
    "# Create list for new column region\n",
    "lst = []\n",
    "for value in dataframe['state']:\n",
    "    if value in(['Maine', 'New Hampshire', 'Vermont', 'Massachusetts', 'Rhode Island', 'Connecticut', 'New York',\n",
    "                 'Pennsylvania', 'New Jersey']):\n",
    "        lst.append('Northeast')\n",
    "    elif value in(['Wisconsin', 'Michigan', 'Illinois', 'Indiana', 'Ohio', 'North Dakota', 'South Dakota', 'Nebraska', 'Kansas',\n",
    "                   'Minnesota', 'Iowa', 'Missouri']):\n",
    "        lst.append('Midwest')\n",
    "    elif value in (['Delaware', 'Maryland', 'District of Columbia', 'Virginia', 'West Virginia', 'North Carolina',\n",
    "                    'South Carolina', 'Georgia', 'Florida', 'Kentucky', 'Tennessee', 'Mississippi', 'Alabama', 'Oklahoma',\n",
    "                    'Texas', 'Arkansas', 'Louisiana']):\n",
    "        lst.append('South')\n",
    "    elif value in (['Idaho', 'Montana', 'Wyoming', 'Nevada', 'Utah', 'Colorado', 'Arizona', 'New Mexico', 'Alaska',\n",
    "                    'Washington', 'Oregon', 'California', 'Hawaii']):\n",
    "        lst.append('West')"
   ]
  },
  {
   "cell_type": "code",
   "execution_count": null,
   "id": "5a1e4aec",
   "metadata": {},
   "outputs": [],
   "source": [
    "dataframe['region'] = lst"
   ]
  },
  {
   "cell_type": "code",
   "execution_count": 4,
   "id": "c1fa39f6",
   "metadata": {},
   "outputs": [],
   "source": [
    "# Create crosstab of spending by region\n",
    "crosstab = pandas.crosstab(dataframe['spending_status'], dataframe['region'], dropna = False)"
   ]
  },
  {
   "cell_type": "code",
   "execution_count": 5,
   "id": "275c1a57",
   "metadata": {},
   "outputs": [
    {
     "data": {
      "text/html": [
       "<div>\n",
       "<style scoped>\n",
       "    .dataframe tbody tr th:only-of-type {\n",
       "        vertical-align: middle;\n",
       "    }\n",
       "\n",
       "    .dataframe tbody tr th {\n",
       "        vertical-align: top;\n",
       "    }\n",
       "\n",
       "    .dataframe thead th {\n",
       "        text-align: right;\n",
       "    }\n",
       "</style>\n",
       "<table border=\"1\" class=\"dataframe\">\n",
       "  <thead>\n",
       "    <tr style=\"text-align: right;\">\n",
       "      <th>region</th>\n",
       "      <th>Midwest</th>\n",
       "      <th>Northeast</th>\n",
       "      <th>South</th>\n",
       "      <th>West</th>\n",
       "    </tr>\n",
       "    <tr>\n",
       "      <th>spending_status</th>\n",
       "      <th></th>\n",
       "      <th></th>\n",
       "      <th></th>\n",
       "      <th></th>\n",
       "    </tr>\n",
       "  </thead>\n",
       "  <tbody>\n",
       "    <tr>\n",
       "      <th>High spender</th>\n",
       "      <td>155975</td>\n",
       "      <td>108225</td>\n",
       "      <td>209691</td>\n",
       "      <td>160354</td>\n",
       "    </tr>\n",
       "    <tr>\n",
       "      <th>Low spender</th>\n",
       "      <td>7441350</td>\n",
       "      <td>5614511</td>\n",
       "      <td>10582194</td>\n",
       "      <td>8132559</td>\n",
       "    </tr>\n",
       "  </tbody>\n",
       "</table>\n",
       "</div>"
      ],
      "text/plain": [
       "region           Midwest  Northeast     South     West\n",
       "spending_status                                       \n",
       "High spender      155975     108225    209691   160354\n",
       "Low spender      7441350    5614511  10582194  8132559"
      ]
     },
     "execution_count": 5,
     "metadata": {},
     "output_type": "execute_result"
    }
   ],
   "source": [
    "crosstab"
   ]
  },
  {
   "cell_type": "code",
   "execution_count": 6,
   "id": "3999c7be",
   "metadata": {},
   "outputs": [
    {
     "name": "stdout",
     "output_type": "stream",
     "text": [
      "Midwest: 0.020960578389673915\n",
      "Northeast: 0.01927594406707904\n",
      "South: 0.019815456038700482\n",
      "West: 0.019717532943812642\n"
     ]
    }
   ],
   "source": [
    "# Print high to low spending ratios by region\n",
    "print('Midwest:', 155975 / 7441350)\n",
    "print('Northeast:', 108225 / 5614511)\n",
    "print('South:', 209691 / 10582194)\n",
    "print('West:', 160354 / 8132559)\n"
   ]
  },
  {
   "cell_type": "markdown",
   "id": "661a36ee",
   "metadata": {},
   "source": [
    "There is not a significant difference in spending habits by region"
   ]
  },
  {
   "cell_type": "markdown",
   "id": "7338e27e",
   "metadata": {},
   "source": [
    "# 3"
   ]
  },
  {
   "cell_type": "code",
   "execution_count": null,
   "id": "13762e4c",
   "metadata": {},
   "outputs": [],
   "source": [
    "# Create new column low_activity\n",
    "dataframe.loc[dataframe['total_user_orders'] < 5, 'low_activity'] = True"
   ]
  },
  {
   "cell_type": "code",
   "execution_count": null,
   "id": "aab5f3d9",
   "metadata": {},
   "outputs": [],
   "source": [
    "dataframe.loc[dataframe['total_user_orders'] >= 5, 'low_activity'] = False"
   ]
  },
  {
   "cell_type": "code",
   "execution_count": null,
   "id": "1530db43",
   "metadata": {},
   "outputs": [],
   "source": [
    "# Create subset of users with 5 or more orders\n",
    "subset = dataframe.loc[dataframe['low_activity'] == False]"
   ]
  },
  {
   "cell_type": "code",
   "execution_count": null,
   "id": "81096ce4",
   "metadata": {},
   "outputs": [],
   "source": [
    "# Export subset\n",
    "subset.to_pickle(r\"C:\\Users\\justi\\Downloads\\Instacart Basket Analysis\\2. Data\\Prepared\\orders_products_all.pkl\")"
   ]
  },
  {
   "cell_type": "markdown",
   "id": "553f8f6d",
   "metadata": {},
   "source": [
    "# 4"
   ]
  },
  {
   "cell_type": "code",
   "execution_count": null,
   "id": "2b4ca27a",
   "metadata": {},
   "outputs": [],
   "source": [
    "# Create new type column\n",
    "dataframe.loc[(dataframe['age'] < 31) & (dataframe['marital_status'] == 'married'), 'type'] = 'Married young adult'"
   ]
  },
  {
   "cell_type": "code",
   "execution_count": null,
   "id": "8ab734b2",
   "metadata": {},
   "outputs": [],
   "source": [
    "dataframe.loc[(dataframe['age'] >= 31) & (dataframe['age'] < 65) & (dataframe['marital_status'] == 'married'), 'type'] = 'Married adult'"
   ]
  },
  {
   "cell_type": "code",
   "execution_count": null,
   "id": "ddae6f22",
   "metadata": {},
   "outputs": [],
   "source": [
    "dataframe.loc[(dataframe['age'] >= 65) & (dataframe['marital_status'] == 'married'), 'type'] = 'Married senior'"
   ]
  },
  {
   "cell_type": "code",
   "execution_count": null,
   "id": "8071aef5",
   "metadata": {},
   "outputs": [],
   "source": [
    "dataframe.loc[(dataframe['age'] < 31) & (dataframe['marital_status'] == 'single'), 'type'] = 'Unmarried young adult'\n",
    "dataframe.loc[(dataframe['age'] < 31) & (dataframe['marital_status'] == 'divorced/widowed'), 'type'] = 'Unmarried young adult'\n",
    "dataframe.loc[(dataframe['age'] < 31) & (dataframe['marital_status'] == 'living with parents and siblings'), 'type'] = 'Unmarried young adult'"
   ]
  },
  {
   "cell_type": "code",
   "execution_count": null,
   "id": "8e39f10b",
   "metadata": {},
   "outputs": [],
   "source": [
    "dataframe.loc[(dataframe['age'] >= 31) & (dataframe['age'] < 65) & (dataframe['marital_status'] == 'single'), 'type'] = 'Unmarried adult'\n",
    "dataframe.loc[(dataframe['age'] >= 31) & (dataframe['age'] < 65) & (dataframe['marital_status'] == 'divorced/widowed'), 'type'] = 'Unmarried adult'\n",
    "dataframe.loc[(dataframe['age'] >= 31) & (dataframe['age'] < 65) & (dataframe['marital_status'] == 'living with parents and siblings'), 'type'] = 'Unmarried adult'"
   ]
  },
  {
   "cell_type": "code",
   "execution_count": null,
   "id": "e64bd9c0",
   "metadata": {},
   "outputs": [],
   "source": [
    "dataframe.loc[(dataframe['age'] >= 65) & (dataframe['marital_status'] == 'single'), 'type'] = 'Unmarried senior'\n",
    "dataframe.loc[(dataframe['age'] >= 65) & (dataframe['marital_status'] == 'divorced/widowed'), 'type'] = 'Unmarried senior'\n",
    "dataframe.loc[(dataframe['age'] >= 65) & (dataframe['marital_status'] == 'living with parents and siblings'), 'type'] = 'Unmarried senior'"
   ]
  },
  {
   "cell_type": "markdown",
   "id": "733f0c09",
   "metadata": {},
   "source": [
    "# 5"
   ]
  },
  {
   "cell_type": "code",
   "execution_count": 8,
   "id": "43096779",
   "metadata": {},
   "outputs": [
    {
     "data": {
      "image/png": "[encoded data removed]",
      "text/plain": [
       "<Figure size 432x288 with 1 Axes>"
      ]
     },
     "metadata": {
      "needs_background": "light"
     },
     "output_type": "display_data"
    }
   ],
   "source": [
    "# Create barchart of type column\n",
    "barchart = subset['type'].value_counts().sort_index().plot.bar()"
   ]
  },
  {
   "cell_type": "markdown",
   "id": "a8d52a9f",
   "metadata": {},
   "source": [
    "# 6"
   ]
  },
  {
   "cell_type": "code",
   "execution_count": 9,
   "id": "71502b97",
   "metadata": {},
   "outputs": [
    {
     "data": {
      "text/html": [
       "<div>\n",
       "<style scoped>\n",
       "    .dataframe tbody tr th:only-of-type {\n",
       "        vertical-align: middle;\n",
       "    }\n",
       "\n",
       "    .dataframe tbody tr th {\n",
       "        vertical-align: top;\n",
       "    }\n",
       "\n",
       "    .dataframe thead tr th {\n",
       "        text-align: left;\n",
       "    }\n",
       "\n",
       "    .dataframe thead tr:last-of-type th {\n",
       "        text-align: right;\n",
       "    }\n",
       "</style>\n",
       "<table border=\"1\" class=\"dataframe\">\n",
       "  <thead>\n",
       "    <tr>\n",
       "      <th></th>\n",
       "      <th colspan=\"3\" halign=\"left\">total_user_orders</th>\n",
       "    </tr>\n",
       "    <tr>\n",
       "      <th></th>\n",
       "      <th>mean</th>\n",
       "      <th>min</th>\n",
       "      <th>max</th>\n",
       "    </tr>\n",
       "    <tr>\n",
       "      <th>type</th>\n",
       "      <th></th>\n",
       "      <th></th>\n",
       "      <th></th>\n",
       "    </tr>\n",
       "  </thead>\n",
       "  <tbody>\n",
       "    <tr>\n",
       "      <th>Married adult</th>\n",
       "      <td>34.380536</td>\n",
       "      <td>5</td>\n",
       "      <td>99</td>\n",
       "    </tr>\n",
       "    <tr>\n",
       "      <th>Married senior</th>\n",
       "      <td>34.288679</td>\n",
       "      <td>5</td>\n",
       "      <td>99</td>\n",
       "    </tr>\n",
       "    <tr>\n",
       "      <th>Married young adult</th>\n",
       "      <td>34.066577</td>\n",
       "      <td>5</td>\n",
       "      <td>99</td>\n",
       "    </tr>\n",
       "    <tr>\n",
       "      <th>Unmarried adult</th>\n",
       "      <td>35.056090</td>\n",
       "      <td>5</td>\n",
       "      <td>99</td>\n",
       "    </tr>\n",
       "    <tr>\n",
       "      <th>Unmarried senior</th>\n",
       "      <td>34.442822</td>\n",
       "      <td>5</td>\n",
       "      <td>99</td>\n",
       "    </tr>\n",
       "    <tr>\n",
       "      <th>Unmarried young adult</th>\n",
       "      <td>34.400108</td>\n",
       "      <td>5</td>\n",
       "      <td>99</td>\n",
       "    </tr>\n",
       "  </tbody>\n",
       "</table>\n",
       "</div>"
      ],
      "text/plain": [
       "                      total_user_orders        \n",
       "                                   mean min max\n",
       "type                                           \n",
       "Married adult                 34.380536   5  99\n",
       "Married senior                34.288679   5  99\n",
       "Married young adult           34.066577   5  99\n",
       "Unmarried adult               35.056090   5  99\n",
       "Unmarried senior              34.442822   5  99\n",
       "Unmarried young adult         34.400108   5  99"
      ]
     },
     "execution_count": 9,
     "metadata": {},
     "output_type": "execute_result"
    }
   ],
   "source": [
    "# Order statistics by type variable\n",
    "subset.groupby('type').agg({'total_user_orders':['mean', 'min', 'max']})"
   ]
  },
  {
   "cell_type": "code",
   "execution_count": 10,
   "id": "652d4a49",
   "metadata": {},
   "outputs": [
    {
     "data": {
      "text/html": [
       "<div>\n",
       "<style scoped>\n",
       "    .dataframe tbody tr th:only-of-type {\n",
       "        vertical-align: middle;\n",
       "    }\n",
       "\n",
       "    .dataframe tbody tr th {\n",
       "        vertical-align: top;\n",
       "    }\n",
       "\n",
       "    .dataframe thead tr th {\n",
       "        text-align: left;\n",
       "    }\n",
       "\n",
       "    .dataframe thead tr:last-of-type th {\n",
       "        text-align: right;\n",
       "    }\n",
       "</style>\n",
       "<table border=\"1\" class=\"dataframe\">\n",
       "  <thead>\n",
       "    <tr>\n",
       "      <th></th>\n",
       "      <th colspan=\"3\" halign=\"left\">prices</th>\n",
       "    </tr>\n",
       "    <tr>\n",
       "      <th></th>\n",
       "      <th>mean</th>\n",
       "      <th>min</th>\n",
       "      <th>max</th>\n",
       "    </tr>\n",
       "    <tr>\n",
       "      <th>type</th>\n",
       "      <th></th>\n",
       "      <th></th>\n",
       "      <th></th>\n",
       "    </tr>\n",
       "  </thead>\n",
       "  <tbody>\n",
       "    <tr>\n",
       "      <th>Married adult</th>\n",
       "      <td>7.791425</td>\n",
       "      <td>1.0</td>\n",
       "      <td>25.0</td>\n",
       "    </tr>\n",
       "    <tr>\n",
       "      <th>Married senior</th>\n",
       "      <td>7.794990</td>\n",
       "      <td>1.0</td>\n",
       "      <td>25.0</td>\n",
       "    </tr>\n",
       "    <tr>\n",
       "      <th>Married young adult</th>\n",
       "      <td>7.776981</td>\n",
       "      <td>1.0</td>\n",
       "      <td>25.0</td>\n",
       "    </tr>\n",
       "    <tr>\n",
       "      <th>Unmarried adult</th>\n",
       "      <td>7.789980</td>\n",
       "      <td>1.0</td>\n",
       "      <td>25.0</td>\n",
       "    </tr>\n",
       "    <tr>\n",
       "      <th>Unmarried senior</th>\n",
       "      <td>7.801982</td>\n",
       "      <td>1.0</td>\n",
       "      <td>25.0</td>\n",
       "    </tr>\n",
       "    <tr>\n",
       "      <th>Unmarried young adult</th>\n",
       "      <td>7.786098</td>\n",
       "      <td>1.0</td>\n",
       "      <td>25.0</td>\n",
       "    </tr>\n",
       "  </tbody>\n",
       "</table>\n",
       "</div>"
      ],
      "text/plain": [
       "                         prices           \n",
       "                           mean  min   max\n",
       "type                                      \n",
       "Married adult          7.791425  1.0  25.0\n",
       "Married senior         7.794990  1.0  25.0\n",
       "Married young adult    7.776981  1.0  25.0\n",
       "Unmarried adult        7.789980  1.0  25.0\n",
       "Unmarried senior       7.801982  1.0  25.0\n",
       "Unmarried young adult  7.786098  1.0  25.0"
      ]
     },
     "execution_count": 10,
     "metadata": {},
     "output_type": "execute_result"
    }
   ],
   "source": [
    "# Product price statistics by type variable\n",
    "subset.groupby('type').agg({'prices':['mean', 'min', 'max']})"
   ]
  },
  {
   "cell_type": "markdown",
   "id": "3ef8d6bb",
   "metadata": {},
   "source": [
    "# 7"
   ]
  },
  {
   "cell_type": "code",
   "execution_count": 11,
   "id": "ff484795",
   "metadata": {},
   "outputs": [],
   "source": [
    "# Create crosstab showing type and region\n",
    "region_table = pandas.crosstab(subset['type'], subset['region'], dropna = False)"
   ]
  },
  {
   "cell_type": "code",
   "execution_count": 12,
   "id": "e140b8eb",
   "metadata": {},
   "outputs": [
    {
     "data": {
      "text/html": [
       "<div>\n",
       "<style scoped>\n",
       "    .dataframe tbody tr th:only-of-type {\n",
       "        vertical-align: middle;\n",
       "    }\n",
       "\n",
       "    .dataframe tbody tr th {\n",
       "        vertical-align: top;\n",
       "    }\n",
       "\n",
       "    .dataframe thead th {\n",
       "        text-align: right;\n",
       "    }\n",
       "</style>\n",
       "<table border=\"1\" class=\"dataframe\">\n",
       "  <thead>\n",
       "    <tr style=\"text-align: right;\">\n",
       "      <th>region</th>\n",
       "      <th>Midwest</th>\n",
       "      <th>Northeast</th>\n",
       "      <th>South</th>\n",
       "      <th>West</th>\n",
       "    </tr>\n",
       "    <tr>\n",
       "      <th>type</th>\n",
       "      <th></th>\n",
       "      <th></th>\n",
       "      <th></th>\n",
       "      <th></th>\n",
       "    </tr>\n",
       "  </thead>\n",
       "  <tbody>\n",
       "    <tr>\n",
       "      <th>Married adult</th>\n",
       "      <td>2898526</td>\n",
       "      <td>2177686</td>\n",
       "      <td>4093845</td>\n",
       "      <td>3150372</td>\n",
       "    </tr>\n",
       "    <tr>\n",
       "      <th>Married senior</th>\n",
       "      <td>1433965</td>\n",
       "      <td>1105968</td>\n",
       "      <td>2050724</td>\n",
       "      <td>1582929</td>\n",
       "    </tr>\n",
       "    <tr>\n",
       "      <th>Married young adult</th>\n",
       "      <td>754771</td>\n",
       "      <td>570119</td>\n",
       "      <td>1079180</td>\n",
       "      <td>845626</td>\n",
       "    </tr>\n",
       "    <tr>\n",
       "      <th>Unmarried adult</th>\n",
       "      <td>997894</td>\n",
       "      <td>690716</td>\n",
       "      <td>1381931</td>\n",
       "      <td>1073810</td>\n",
       "    </tr>\n",
       "    <tr>\n",
       "      <th>Unmarried senior</th>\n",
       "      <td>470081</td>\n",
       "      <td>378839</td>\n",
       "      <td>657737</td>\n",
       "      <td>515301</td>\n",
       "    </tr>\n",
       "    <tr>\n",
       "      <th>Unmarried young adult</th>\n",
       "      <td>706276</td>\n",
       "      <td>541357</td>\n",
       "      <td>1047722</td>\n",
       "      <td>759189</td>\n",
       "    </tr>\n",
       "  </tbody>\n",
       "</table>\n",
       "</div>"
      ],
      "text/plain": [
       "region                 Midwest  Northeast    South     West\n",
       "type                                                       \n",
       "Married adult          2898526    2177686  4093845  3150372\n",
       "Married senior         1433965    1105968  2050724  1582929\n",
       "Married young adult     754771     570119  1079180   845626\n",
       "Unmarried adult         997894     690716  1381931  1073810\n",
       "Unmarried senior        470081     378839   657737   515301\n",
       "Unmarried young adult   706276     541357  1047722   759189"
      ]
     },
     "execution_count": 12,
     "metadata": {},
     "output_type": "execute_result"
    }
   ],
   "source": [
    "region_table"
   ]
  },
  {
   "cell_type": "code",
   "execution_count": 13,
   "id": "92157619",
   "metadata": {},
   "outputs": [],
   "source": [
    "# Create crosstab showing type and department\n",
    "department_table = pandas.crosstab(subset['type'], subset['department_id'], dropna = False)"
   ]
  },
  {
   "cell_type": "code",
   "execution_count": 14,
   "id": "795f7d4f",
   "metadata": {},
   "outputs": [
    {
     "data": {
      "text/html": [
       "<div>\n",
       "<style scoped>\n",
       "    .dataframe tbody tr th:only-of-type {\n",
       "        vertical-align: middle;\n",
       "    }\n",
       "\n",
       "    .dataframe tbody tr th {\n",
       "        vertical-align: top;\n",
       "    }\n",
       "\n",
       "    .dataframe thead th {\n",
       "        text-align: right;\n",
       "    }\n",
       "</style>\n",
       "<table border=\"1\" class=\"dataframe\">\n",
       "  <thead>\n",
       "    <tr style=\"text-align: right;\">\n",
       "      <th>department_id</th>\n",
       "      <th>1</th>\n",
       "      <th>2</th>\n",
       "      <th>3</th>\n",
       "      <th>4</th>\n",
       "      <th>5</th>\n",
       "      <th>6</th>\n",
       "      <th>7</th>\n",
       "      <th>8</th>\n",
       "      <th>9</th>\n",
       "      <th>10</th>\n",
       "      <th>11</th>\n",
       "      <th>12</th>\n",
       "      <th>13</th>\n",
       "      <th>14</th>\n",
       "      <th>15</th>\n",
       "      <th>16</th>\n",
       "      <th>17</th>\n",
       "      <th>18</th>\n",
       "      <th>19</th>\n",
       "      <th>20</th>\n",
       "      <th>21</th>\n",
       "    </tr>\n",
       "    <tr>\n",
       "      <th>type</th>\n",
       "      <th></th>\n",
       "      <th></th>\n",
       "      <th></th>\n",
       "      <th></th>\n",
       "      <th></th>\n",
       "      <th></th>\n",
       "      <th></th>\n",
       "      <th></th>\n",
       "      <th></th>\n",
       "      <th></th>\n",
       "      <th></th>\n",
       "      <th></th>\n",
       "      <th></th>\n",
       "      <th></th>\n",
       "      <th></th>\n",
       "      <th></th>\n",
       "      <th></th>\n",
       "      <th></th>\n",
       "      <th></th>\n",
       "      <th></th>\n",
       "      <th></th>\n",
       "    </tr>\n",
       "  </thead>\n",
       "  <tbody>\n",
       "    <tr>\n",
       "      <th>Married adult</th>\n",
       "      <td>843073</td>\n",
       "      <td>13278</td>\n",
       "      <td>445099</td>\n",
       "      <td>3611116</td>\n",
       "      <td>56856</td>\n",
       "      <td>101671</td>\n",
       "      <td>1022780</td>\n",
       "      <td>36347</td>\n",
       "      <td>327247</td>\n",
       "      <td>13318</td>\n",
       "      <td>170390</td>\n",
       "      <td>268815</td>\n",
       "      <td>710824</td>\n",
       "      <td>267764</td>\n",
       "      <td>401838</td>\n",
       "      <td>2058552</td>\n",
       "      <td>280565</td>\n",
       "      <td>164988</td>\n",
       "      <td>1102471</td>\n",
       "      <td>397734</td>\n",
       "      <td>25703</td>\n",
       "    </tr>\n",
       "    <tr>\n",
       "      <th>Married senior</th>\n",
       "      <td>423146</td>\n",
       "      <td>6791</td>\n",
       "      <td>223579</td>\n",
       "      <td>1813012</td>\n",
       "      <td>27554</td>\n",
       "      <td>50686</td>\n",
       "      <td>515378</td>\n",
       "      <td>18349</td>\n",
       "      <td>164020</td>\n",
       "      <td>6851</td>\n",
       "      <td>82961</td>\n",
       "      <td>136819</td>\n",
       "      <td>356648</td>\n",
       "      <td>132810</td>\n",
       "      <td>202766</td>\n",
       "      <td>1029272</td>\n",
       "      <td>141616</td>\n",
       "      <td>80312</td>\n",
       "      <td>548253</td>\n",
       "      <td>199831</td>\n",
       "      <td>12932</td>\n",
       "    </tr>\n",
       "    <tr>\n",
       "      <th>Married young adult</th>\n",
       "      <td>223171</td>\n",
       "      <td>3813</td>\n",
       "      <td>117071</td>\n",
       "      <td>949165</td>\n",
       "      <td>15011</td>\n",
       "      <td>26779</td>\n",
       "      <td>269295</td>\n",
       "      <td>9424</td>\n",
       "      <td>87031</td>\n",
       "      <td>3649</td>\n",
       "      <td>44549</td>\n",
       "      <td>70925</td>\n",
       "      <td>185484</td>\n",
       "      <td>70646</td>\n",
       "      <td>107973</td>\n",
       "      <td>544775</td>\n",
       "      <td>72969</td>\n",
       "      <td>42383</td>\n",
       "      <td>293934</td>\n",
       "      <td>104768</td>\n",
       "      <td>6881</td>\n",
       "    </tr>\n",
       "    <tr>\n",
       "      <th>Unmarried adult</th>\n",
       "      <td>283087</td>\n",
       "      <td>4777</td>\n",
       "      <td>152137</td>\n",
       "      <td>1216828</td>\n",
       "      <td>20643</td>\n",
       "      <td>34398</td>\n",
       "      <td>345860</td>\n",
       "      <td>12003</td>\n",
       "      <td>108465</td>\n",
       "      <td>4228</td>\n",
       "      <td>56186</td>\n",
       "      <td>87918</td>\n",
       "      <td>237637</td>\n",
       "      <td>90155</td>\n",
       "      <td>134483</td>\n",
       "      <td>694282</td>\n",
       "      <td>90846</td>\n",
       "      <td>55130</td>\n",
       "      <td>369669</td>\n",
       "      <td>137148</td>\n",
       "      <td>8471</td>\n",
       "    </tr>\n",
       "    <tr>\n",
       "      <th>Unmarried senior</th>\n",
       "      <td>141104</td>\n",
       "      <td>2155</td>\n",
       "      <td>72418</td>\n",
       "      <td>595092</td>\n",
       "      <td>9139</td>\n",
       "      <td>16513</td>\n",
       "      <td>168642</td>\n",
       "      <td>6766</td>\n",
       "      <td>53296</td>\n",
       "      <td>2094</td>\n",
       "      <td>28091</td>\n",
       "      <td>44331</td>\n",
       "      <td>115735</td>\n",
       "      <td>42486</td>\n",
       "      <td>64743</td>\n",
       "      <td>338800</td>\n",
       "      <td>45014</td>\n",
       "      <td>25892</td>\n",
       "      <td>180296</td>\n",
       "      <td>65368</td>\n",
       "      <td>3983</td>\n",
       "    </tr>\n",
       "    <tr>\n",
       "      <th>Unmarried young adult</th>\n",
       "      <td>208150</td>\n",
       "      <td>3597</td>\n",
       "      <td>110524</td>\n",
       "      <td>894060</td>\n",
       "      <td>15424</td>\n",
       "      <td>25944</td>\n",
       "      <td>249946</td>\n",
       "      <td>10171</td>\n",
       "      <td>82077</td>\n",
       "      <td>3311</td>\n",
       "      <td>42129</td>\n",
       "      <td>65973</td>\n",
       "      <td>176377</td>\n",
       "      <td>66989</td>\n",
       "      <td>100271</td>\n",
       "      <td>511501</td>\n",
       "      <td>68847</td>\n",
       "      <td>41687</td>\n",
       "      <td>271783</td>\n",
       "      <td>98985</td>\n",
       "      <td>6798</td>\n",
       "    </tr>\n",
       "  </tbody>\n",
       "</table>\n",
       "</div>"
      ],
      "text/plain": [
       "department_id              1      2       3        4      5       6        7   \\\n",
       "type                                                                            \n",
       "Married adult          843073  13278  445099  3611116  56856  101671  1022780   \n",
       "Married senior         423146   6791  223579  1813012  27554   50686   515378   \n",
       "Married young adult    223171   3813  117071   949165  15011   26779   269295   \n",
       "Unmarried adult        283087   4777  152137  1216828  20643   34398   345860   \n",
       "Unmarried senior       141104   2155   72418   595092   9139   16513   168642   \n",
       "Unmarried young adult  208150   3597  110524   894060  15424   25944   249946   \n",
       "\n",
       "department_id             8       9      10      11      12      13      14  \\\n",
       "type                                                                          \n",
       "Married adult          36347  327247  13318  170390  268815  710824  267764   \n",
       "Married senior         18349  164020   6851   82961  136819  356648  132810   \n",
       "Married young adult     9424   87031   3649   44549   70925  185484   70646   \n",
       "Unmarried adult        12003  108465   4228   56186   87918  237637   90155   \n",
       "Unmarried senior        6766   53296   2094   28091   44331  115735   42486   \n",
       "Unmarried young adult  10171   82077   3311   42129   65973  176377   66989   \n",
       "\n",
       "department_id              15       16      17      18       19      20     21  \n",
       "type                                                                            \n",
       "Married adult          401838  2058552  280565  164988  1102471  397734  25703  \n",
       "Married senior         202766  1029272  141616   80312   548253  199831  12932  \n",
       "Married young adult    107973   544775   72969   42383   293934  104768   6881  \n",
       "Unmarried adult        134483   694282   90846   55130   369669  137148   8471  \n",
       "Unmarried senior        64743   338800   45014   25892   180296   65368   3983  \n",
       "Unmarried young adult  100271   511501   68847   41687   271783   98985   6798  "
      ]
     },
     "execution_count": 14,
     "metadata": {},
     "output_type": "execute_result"
    }
   ],
   "source": [
    "department_table"
   ]
  },
  {
   "cell_type": "code",
   "execution_count": 15,
   "id": "a508f34f",
   "metadata": {},
   "outputs": [],
   "source": [
    "# Export department table\n",
    "department_table.to_csv(r\"C:\\Users\\justi\\Downloads\\Instacart Basket Analysis\\4. Analysis\\Tables\\department_table.csv\")"
   ]
  },
  {
   "cell_type": "code",
   "execution_count": 19,
   "id": "d4b4beac",
   "metadata": {},
   "outputs": [],
   "source": [
    "# Create table showing order hour and age\n",
    "age_table = subset.groupby('order_hour_of_day').agg({'age':'mean'})"
   ]
  },
  {
   "cell_type": "code",
   "execution_count": null,
   "id": "120f044f",
   "metadata": {},
   "outputs": [],
   "source": [
    "# Export age table\n",
    "age_table.to_csv(r\"C:\\Users\\justi\\Downloads\\Instacart Basket Analysis\\4. Analysis\\Tables\\age_table.csv\")"
   ]
  },
  {
   "cell_type": "code",
   "execution_count": 20,
   "id": "c18d6dd7",
   "metadata": {},
   "outputs": [],
   "source": [
    "# Create table showing order hour and income\n",
    "income_table = subset.groupby('order_hour_of_day').agg({'annual_income':'mean'})"
   ]
  },
  {
   "cell_type": "code",
   "execution_count": 22,
   "id": "dc168c57",
   "metadata": {},
   "outputs": [],
   "source": [
    "# Export income table\n",
    "income_table.to_csv(r\"C:\\Users\\justi\\Downloads\\Instacart Basket Analysis\\4. Analysis\\Tables\\income_table.csv\")"
   ]
  },
  {
   "cell_type": "markdown",
   "id": "ae579c19",
   "metadata": {},
   "source": [
    "# 8"
   ]
  },
  {
   "cell_type": "code",
   "execution_count": 6,
   "id": "77299b29",
   "metadata": {},
   "outputs": [],
   "source": [
    "# Create dataframe from department_table\n",
    "department_table_df = pandas.read_csv(r\"C:\\Users\\justi\\Downloads\\Instacart Basket Analysis\\2. Data\\Prepared\\department_table.csv\")"
   ]
  },
  {
   "cell_type": "code",
   "execution_count": 17,
   "id": "99ddace9",
   "metadata": {},
   "outputs": [
    {
     "data": {
      "image/png": "[encoded data removed]",
      "text/plain": [
       "<Figure size 432x288 with 1 Axes>"
      ]
     },
     "metadata": {
      "needs_background": "light"
     },
     "output_type": "display_data"
    }
   ],
   "source": [
    "# Create scatterplots from department_table dataframe\n",
    "scatter = seaborn.scatterplot(x = 'department_id', y = 'Married adult', data = department_table_df)"
   ]
  },
  {
   "cell_type": "code",
   "execution_count": 7,
   "id": "646a1811",
   "metadata": {},
   "outputs": [
    {
     "data": {
      "image/png": "[encoded data removed]",
      "text/plain": [
       "<Figure size 432x288 with 1 Axes>"
      ]
     },
     "metadata": {
      "needs_background": "light"
     },
     "output_type": "display_data"
    }
   ],
   "source": [
    "scatter2 = seaborn.scatterplot(x = 'department_id', y = 'Married senior', data = department_table_df)"
   ]
  },
  {
   "cell_type": "code",
   "execution_count": 9,
   "id": "beb7e0d5",
   "metadata": {},
   "outputs": [
    {
     "data": {
      "image/png": "[encoded data removed]",
      "text/plain": [
       "<Figure size 432x288 with 1 Axes>"
      ]
     },
     "metadata": {
      "needs_background": "light"
     },
     "output_type": "display_data"
    }
   ],
   "source": [
    "scatter3 = seaborn.scatterplot(x = 'department_id', y = 'Married young adult', data = department_table_df)"
   ]
  },
  {
   "cell_type": "code",
   "execution_count": 10,
   "id": "fd6bd23e",
   "metadata": {},
   "outputs": [
    {
     "data": {
      "image/png": "[encoded data removed]",
      "text/plain": [
       "<Figure size 432x288 with 1 Axes>"
      ]
     },
     "metadata": {
      "needs_background": "light"
     },
     "output_type": "display_data"
    }
   ],
   "source": [
    "scatter4 = seaborn.scatterplot(x = 'department_id', y = 'Unmarried adult', data = department_table_df)"
   ]
  },
  {
   "cell_type": "code",
   "execution_count": 11,
   "id": "10e8c9bc",
   "metadata": {},
   "outputs": [
    {
     "data": {
      "image/png": "[encoded data removed]",
      "text/plain": [
       "<Figure size 432x288 with 1 Axes>"
      ]
     },
     "metadata": {
      "needs_background": "light"
     },
     "output_type": "display_data"
    }
   ],
   "source": [
    "scatter5 = seaborn.scatterplot(x = 'department_id', y = 'Unmarried senior', data = department_table_df)"
   ]
  },
  {
   "cell_type": "code",
   "execution_count": 12,
   "id": "ce3e9452",
   "metadata": {},
   "outputs": [
    {
     "data": {
      "image/png": "[encoded data removed]",
      "text/plain": [
       "<Figure size 432x288 with 1 Axes>"
      ]
     },
     "metadata": {
      "needs_background": "light"
     },
     "output_type": "display_data"
    }
   ],
   "source": [
    "scatter6 = seaborn.scatterplot(x = 'department_id', y = 'Unmarried young adult', data = department_table_df)"
   ]
  },
  {
   "cell_type": "code",
   "execution_count": 18,
   "id": "a9348936",
   "metadata": {},
   "outputs": [],
   "source": [
    "# Export scatterplots\n",
    "scatter.figure.savefig(r\"C:\\Users\\justi\\Downloads\\Instacart Basket Analysis\\4. Analysis\\Visualizations\\scatterplot.png\")"
   ]
  },
  {
   "cell_type": "code",
   "execution_count": 8,
   "id": "fe29a226",
   "metadata": {},
   "outputs": [],
   "source": [
    "\n",
    "scatter2.figure.savefig(r\"C:\\Users\\justi\\Downloads\\Instacart Basket Analysis\\4. Analysis\\Visualizations\\scatterplot2.png\")"
   ]
  },
  {
   "cell_type": "code",
   "execution_count": 13,
   "id": "b68d7108",
   "metadata": {},
   "outputs": [],
   "source": [
    "scatter3.figure.savefig(r\"C:\\Users\\justi\\Downloads\\Instacart Basket Analysis\\4. Analysis\\Visualizations\\scatterplot3.png\")"
   ]
  },
  {
   "cell_type": "code",
   "execution_count": 14,
   "id": "7249dfa1",
   "metadata": {},
   "outputs": [],
   "source": [
    "scatter4.figure.savefig(r\"C:\\Users\\justi\\Downloads\\Instacart Basket Analysis\\4. Analysis\\Visualizations\\scatterplot4.png\")"
   ]
  },
  {
   "cell_type": "code",
   "execution_count": 15,
   "id": "f5f5dba4",
   "metadata": {},
   "outputs": [],
   "source": [
    "scatter5.figure.savefig(r\"C:\\Users\\justi\\Downloads\\Instacart Basket Analysis\\4. Analysis\\Visualizations\\scatterplot5.png\")"
   ]
  },
  {
   "cell_type": "code",
   "execution_count": 16,
   "id": "2ea96fc9",
   "metadata": {},
   "outputs": [],
   "source": [
    "scatter6.figure.savefig(r\"C:\\Users\\justi\\Downloads\\Instacart Basket Analysis\\4. Analysis\\Visualizations\\scatterplot6.png\")"
   ]
  },
  {
   "cell_type": "code",
   "execution_count": 19,
   "id": "da1f00d4",
   "metadata": {},
   "outputs": [],
   "source": [
    "# Export barchart from step 6\n",
    "barchart.figure.savefig(r\"C:\\Users\\justi\\Downloads\\Instacart Basket Analysis\\4. Analysis\\Visualizations\\barchart3.png\")"
   ]
  },
  {
   "cell_type": "markdown",
   "id": "b2ce177e",
   "metadata": {},
   "source": [
    "# 9"
   ]
  },
  {
   "cell_type": "code",
   "execution_count": null,
   "id": "ecb5799c",
   "metadata": {},
   "outputs": [],
   "source": [
    "# Overwrite dataframe\n",
    "dataframe.to_pickle(r\"C:\\Users\\justi\\Downloads\\Instacart Basket Analysis\\2. Data\\Prepared\\orders_products_customers.pkl\")"
   ]
  }
 ],
 "metadata": {
  "kernelspec": {
   "display_name": "Python 3 (ipykernel)",
   "language": "python",
   "name": "python3"
  },
  "language_info": {
   "codemirror_mode": {
    "name": "ipython",
    "version": 3
   },
   "file_extension": ".py",
   "mimetype": "text/x-python",
   "name": "python",
   "nbconvert_exporter": "python",
   "pygments_lexer": "ipython3",
   "version": "3.9.7"
  }
 },
 "nbformat": 4,
 "nbformat_minor": 5
}
